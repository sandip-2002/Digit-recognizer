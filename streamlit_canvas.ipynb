{
  "nbformat": 4,
  "nbformat_minor": 0,
  "metadata": {
    "colab": {
      "name": "streamlit canvas.ipynb",
      "provenance": [],
      "collapsed_sections": []
    },
    "kernelspec": {
      "name": "python3",
      "display_name": "Python 3"
    },
    "language_info": {
      "name": "python"
    }
  },
  "cells": [
    {
      "cell_type": "code",
      "metadata": {
        "colab": {
          "base_uri": "https://localhost:8080/"
        },
        "id": "hQb1aXqq-WEZ",
        "outputId": "3da0999b-2edd-407f-a240-58bc15f33d26"
      },
      "source": [
        "!pip install streamlit --quiet \n",
        "!pip install pyngrok==4.1.1 --quiet\n",
        "!pip install streamlit-drawable-canvas --quiet\n"
      ],
      "execution_count": null,
      "outputs": [
        {
          "output_type": "stream",
          "text": [
            "\u001b[K     |████████████████████████████████| 8.2MB 2.9MB/s \n",
            "\u001b[K     |████████████████████████████████| 112kB 40.7MB/s \n",
            "\u001b[K     |████████████████████████████████| 174kB 40.6MB/s \n",
            "\u001b[K     |████████████████████████████████| 4.2MB 30.3MB/s \n",
            "\u001b[K     |████████████████████████████████| 92kB 10.4MB/s \n",
            "\u001b[K     |████████████████████████████████| 81kB 10.0MB/s \n",
            "\u001b[K     |████████████████████████████████| 71kB 8.9MB/s \n",
            "\u001b[K     |████████████████████████████████| 122kB 52.2MB/s \n",
            "\u001b[?25h  Building wheel for blinker (setup.py) ... \u001b[?25l\u001b[?25hdone\n",
            "\u001b[31mERROR: google-colab 1.0.0 has requirement ipykernel~=4.10, but you'll have ipykernel 5.5.5 which is incompatible.\u001b[0m\n",
            "  Building wheel for pyngrok (setup.py) ... \u001b[?25l\u001b[?25hdone\n",
            "\u001b[K     |████████████████████████████████| 1.3MB 3.0MB/s \n",
            "\u001b[?25h"
          ],
          "name": "stdout"
        }
      ]
    },
    {
      "cell_type": "code",
      "metadata": {
        "id": "dGLJWDyk-4jA"
      },
      "source": [
        "from pyngrok import ngrok\n"
      ],
      "execution_count": null,
      "outputs": []
    },
    {
      "cell_type": "code",
      "metadata": {
        "colab": {
          "base_uri": "https://localhost:8080/"
        },
        "id": "m-8dRHSO_kba",
        "outputId": "09eb3e3a-d6c4-44e5-e246-6175940eb2ad"
      },
      "source": [
        "%%writefile digiapp.py\n",
        "import streamlit as st\n",
        "from streamlit_drawable_canvas import st_canvas\n",
        "from tensorflow import keras\n",
        "import numpy as np\n",
        "import cv2\n",
        "model_new = keras.models.load_model('mnist1.hdf5')\n",
        "st.title(\"DIGIT RECOGNIZER\")\n",
        "SIZE =192\n",
        "canvas_result = st_canvas(stroke_width=10,stroke_color=\"#ffffff\",background_color=\"#000000\",height=250,width=250,drawing_mode='freedraw')\n",
        "\n",
        "if canvas_result.image_data is not None:\n",
        "   st.image(canvas_result.image_data)\n",
        "\n",
        "if canvas_result.image_data is not None:\n",
        "  img = cv2.cvtColor(canvas_result.image_data.astype('uint8'),cv2.COLOR_BGR2GRAY)\n",
        "  rescaled = cv2.resize(img,(28,28))\n",
        "    \n",
        "if st.button('Predict'):\n",
        "     op= model_new.predict(rescaled.reshape(1,28,28))\n",
        "     st.title(f'result: {np.argmax(op)}')\n",
        "     \n",
        "\n"
      ],
      "execution_count": null,
      "outputs": [
        {
          "output_type": "stream",
          "text": [
            "Writing digiapp.py\n"
          ],
          "name": "stdout"
        }
      ]
    },
    {
      "cell_type": "code",
      "metadata": {
        "colab": {
          "base_uri": "https://localhost:8080/",
          "height": 52
        },
        "id": "uCsnbn_1_77t",
        "outputId": "434806b6-9b8a-4470-ec52-74a886ddc07d"
      },
      "source": [
        "!nohup streamlit run digiapp.py&\n",
        "url= ngrok.connect(port='8501')\n",
        "url"
      ],
      "execution_count": null,
      "outputs": [
        {
          "output_type": "stream",
          "text": [
            "nohup: appending output to 'nohup.out'\n"
          ],
          "name": "stdout"
        },
        {
          "output_type": "execute_result",
          "data": {
            "application/vnd.google.colaboratory.intrinsic+json": {
              "type": "string"
            },
            "text/plain": [
              "'http://f6692729d045.ngrok.io'"
            ]
          },
          "metadata": {
            "tags": []
          },
          "execution_count": 4
        }
      ]
    },
    {
      "cell_type": "code",
      "metadata": {
        "id": "RTvrzkC3AZdZ"
      },
      "source": [
        ""
      ],
      "execution_count": null,
      "outputs": []
    },
    {
      "cell_type": "code",
      "metadata": {
        "id": "QZsisGOuaT9Z"
      },
      "source": [
        ""
      ],
      "execution_count": null,
      "outputs": []
    }
  ]
}