{
  "nbformat": 4,
  "nbformat_minor": 0,
  "metadata": {
    "colab": {
      "name": "model_training.ipynb",
      "provenance": [],
      "collapsed_sections": []
    },
    "kernelspec": {
      "name": "python3",
      "display_name": "Python 3"
    },
    "language_info": {
      "name": "python"
    }
  },
  "cells": [
    {
      "cell_type": "code",
      "metadata": {
        "id": "9H6Kog283mJw",
        "colab": {
          "base_uri": "https://localhost:8080/"
        },
        "outputId": "7e273abe-2982-4640-b1bc-063e7269c9a2"
      },
      "source": [
        "from tensorflow import keras\n",
        "(x_train, y_train), (x_test, y_test)= keras.datasets.mnist.load_data(path=\"mnist.npz\")"
      ],
      "execution_count": null,
      "outputs": [
        {
          "output_type": "stream",
          "text": [
            "Downloading data from https://storage.googleapis.com/tensorflow/tf-keras-datasets/mnist.npz\n",
            "11493376/11490434 [==============================] - 0s 0us/step\n"
          ],
          "name": "stdout"
        }
      ]
    },
    {
      "cell_type": "code",
      "metadata": {
        "colab": {
          "base_uri": "https://localhost:8080/"
        },
        "id": "maO2w0RMN0W3",
        "outputId": "27e6a34e-7f3c-461d-df44-9164fde7521f"
      },
      "source": [
        "x_train[100]"
      ],
      "execution_count": null,
      "outputs": [
        {
          "output_type": "execute_result",
          "data": {
            "text/plain": [
              "array([[  0,   0,   0,   0,   0,   0,   0,   0,   0,   0,   0,   0,   0,\n",
              "          0,   0,   0,   0,   0,   0,   0,   0,   0,   0,   0,   0,   0,\n",
              "          0,   0],\n",
              "       [  0,   0,   0,   0,   0,   0,   0,   0,   0,   0,   0,   0,   0,\n",
              "          0,   0,   0,   0,   0,   0,   0,   0,   0,   0,   0,   0,   0,\n",
              "          0,   0],\n",
              "       [  0,   0,   0,   0,   0,   0,   0,   0,   0,   0,   0,   0,   0,\n",
              "          0,   0,   0,   0,   0,   0,   0,   0,   0,   0,   0,   0,   0,\n",
              "          0,   0],\n",
              "       [  0,   0,   0,   0,   0,   0,   0,   0,   0,   0,   0,   0,   0,\n",
              "          0,   0,   0,   0,   0,   0,   0,   0,   0,   0,   0,   0,   0,\n",
              "          0,   0],\n",
              "       [  0,   0,   0,   0,   0,   0,   0,   0,   0,   0,   0,   0,   0,\n",
              "          0,   0,   0,   0,   0,   0,   0,   0,   0,   0,   0,   0,   0,\n",
              "          0,   0],\n",
              "       [  0,   0,   0,   0,   0,   0,   0,   0,   0,   0,   0,   0,   0,\n",
              "          0,   0,   0,   0,   0,   0,   0,   0,   0,   0,   0,   0,   0,\n",
              "          0,   0],\n",
              "       [  0,   0,   0,   0,   0,   0,   0,   0,   0,   0,   0,   0,   0,\n",
              "          2,  18,  46, 136, 136, 244, 255, 241, 103,   0,   0,   0,   0,\n",
              "          0,   0],\n",
              "       [  0,   0,   0,   0,   0,   0,   0,   0,   0,   0,   0,  15,  94,\n",
              "        163, 253, 253, 253, 253, 238, 218, 204,  35,   0,   0,   0,   0,\n",
              "          0,   0],\n",
              "       [  0,   0,   0,   0,   0,   0,   0,   0,   0,   0,   0, 131, 253,\n",
              "        253, 253, 253, 237, 200,  57,   0,   0,   0,   0,   0,   0,   0,\n",
              "          0,   0],\n",
              "       [  0,   0,   0,   0,   0,   0,   0,   0,   0,   0, 155, 246, 253,\n",
              "        247, 108,  65,  45,   0,   0,   0,   0,   0,   0,   0,   0,   0,\n",
              "          0,   0],\n",
              "       [  0,   0,   0,   0,   0,   0,   0,   0,   0,   0, 207, 253, 253,\n",
              "        230,   0,   0,   0,   0,   0,   0,   0,   0,   0,   0,   0,   0,\n",
              "          0,   0],\n",
              "       [  0,   0,   0,   0,   0,   0,   0,   0,   0,   0, 157, 253, 253,\n",
              "        125,   0,   0,   0,   0,   0,   0,   0,   0,   0,   0,   0,   0,\n",
              "          0,   0],\n",
              "       [  0,   0,   0,   0,   0,   0,   0,   0,   0,   0,  89, 253, 250,\n",
              "         57,   0,   0,   0,   0,   0,   0,   0,   0,   0,   0,   0,   0,\n",
              "          0,   0],\n",
              "       [  0,   0,   0,   0,   0,   0,   0,   0,   0,   0,  89, 253, 247,\n",
              "          0,   0,   0,   0,   0,   0,   0,   0,   0,   0,   0,   0,   0,\n",
              "          0,   0],\n",
              "       [  0,   0,   0,   0,   0,   0,   0,   0,   0,   0,  89, 253, 247,\n",
              "          0,   0,   0,   0,   0,   0,   0,   0,   0,   0,   0,   0,   0,\n",
              "          0,   0],\n",
              "       [  0,   0,   0,   0,   0,   0,   0,   0,   0,   0,  89, 253, 247,\n",
              "          0,   0,   0,   0,   0,   0,   0,   0,   0,   0,   0,   0,   0,\n",
              "          0,   0],\n",
              "       [  0,   0,   0,   0,   0,   0,   0,   0,   0,   0,  21, 231, 249,\n",
              "         34,   0,   0,   0,   0,   0,   0,   0,   0,   0,   0,   0,   0,\n",
              "          0,   0],\n",
              "       [  0,   0,   0,   0,   0,   0,   0,   0,   0,   0,   0, 225, 253,\n",
              "        231, 213, 213, 123,  16,   0,   0,   0,   0,   0,   0,   0,   0,\n",
              "          0,   0],\n",
              "       [  0,   0,   0,   0,   0,   0,   0,   0,   0,   0,   0, 172, 253,\n",
              "        253, 253, 253, 253, 190,  63,   0,   0,   0,   0,   0,   0,   0,\n",
              "          0,   0],\n",
              "       [  0,   0,   0,   0,   0,   0,   0,   0,   0,   0,   0,   2, 116,\n",
              "         72, 124, 209, 253, 253, 141,   0,   0,   0,   0,   0,   0,   0,\n",
              "          0,   0],\n",
              "       [  0,   0,   0,   0,   0,   0,   0,   0,   0,   0,   0,   0,   0,\n",
              "          0,   0,  25, 219, 253, 206,   3,   0,   0,   0,   0,   0,   0,\n",
              "          0,   0],\n",
              "       [  0,   0,   0,   0,   0,   0,   0,   0,   0,   0,   0,   0,   0,\n",
              "          0,   0,   0, 104, 246, 253,   5,   0,   0,   0,   0,   0,   0,\n",
              "          0,   0],\n",
              "       [  0,   0,   0,   0,   0,   0,   0,   0,   0,   0,   0,   0,   0,\n",
              "          0,   0,   0,   0, 213, 253,   5,   0,   0,   0,   0,   0,   0,\n",
              "          0,   0],\n",
              "       [  0,   0,   0,   0,   0,   0,   0,   0,   0,   0,   0,   0,   0,\n",
              "          0,   0,   0,  26, 226, 253,   5,   0,   0,   0,   0,   0,   0,\n",
              "          0,   0],\n",
              "       [  0,   0,   0,   0,   0,   0,   0,   0,   0,   0,   0,   0,   0,\n",
              "          0,   0,   0, 132, 253, 209,   3,   0,   0,   0,   0,   0,   0,\n",
              "          0,   0],\n",
              "       [  0,   0,   0,   0,   0,   0,   0,   0,   0,   0,   0,   0,   0,\n",
              "          0,   0,   0,  78, 253,  86,   0,   0,   0,   0,   0,   0,   0,\n",
              "          0,   0],\n",
              "       [  0,   0,   0,   0,   0,   0,   0,   0,   0,   0,   0,   0,   0,\n",
              "          0,   0,   0,   0,   0,   0,   0,   0,   0,   0,   0,   0,   0,\n",
              "          0,   0],\n",
              "       [  0,   0,   0,   0,   0,   0,   0,   0,   0,   0,   0,   0,   0,\n",
              "          0,   0,   0,   0,   0,   0,   0,   0,   0,   0,   0,   0,   0,\n",
              "          0,   0]], dtype=uint8)"
            ]
          },
          "metadata": {
            "tags": []
          },
          "execution_count": 2
        }
      ]
    },
    {
      "cell_type": "code",
      "metadata": {
        "colab": {
          "base_uri": "https://localhost:8080/"
        },
        "id": "TgHoSXU833x0",
        "outputId": "7c006587-9539-4235-9d76-fc5e045cb340"
      },
      "source": [
        "print(x_train.shape)\n",
        "print(y_train.shape)\n",
        "print(x_test.shape)\n",
        "print(y_test.shape)"
      ],
      "execution_count": null,
      "outputs": [
        {
          "output_type": "stream",
          "text": [
            "(60000, 28, 28)\n",
            "(60000,)\n",
            "(10000, 28, 28)\n",
            "(10000,)\n"
          ],
          "name": "stdout"
        }
      ]
    },
    {
      "cell_type": "code",
      "metadata": {
        "colab": {
          "base_uri": "https://localhost:8080/",
          "height": 281
        },
        "id": "4M7GsB7Y4J-u",
        "outputId": "bd6d965a-3587-4c7e-a605-29b436455d21"
      },
      "source": [
        "import matplotlib.pyplot as plt\n",
        "import random\n",
        "i= random.randint(0,60000)\n",
        "plt.imshow(x_train[i], cmap='gray')\n",
        "plt.title((y_train[i]))\n",
        "plt.show()\n"
      ],
      "execution_count": null,
      "outputs": [
        {
          "output_type": "display_data",
          "data": {
            "image/png": "[encoded data removed]",
            "text/plain": [
              "<Figure size 432x288 with 1 Axes>"
            ]
          },
          "metadata": {
            "tags": [],
            "needs_background": "light"
          }
        }
      ]
    },
    {
      "cell_type": "code",
      "metadata": {
        "colab": {
          "base_uri": "https://localhost:8080/"
        },
        "id": "9TVOM6MK4qgr",
        "outputId": "3eec90fb-b129-48a6-c47f-2a02daa7d874"
      },
      "source": [
        "import numpy as np\n",
        "print(np.unique(y_train, return_counts = True))\n",
        "print(np.unique(y_test, return_counts = True))"
      ],
      "execution_count": null,
      "outputs": [
        {
          "output_type": "stream",
          "text": [
            "(array([0, 1, 2, 3, 4, 5, 6, 7, 8, 9], dtype=uint8), array([5923, 6742, 5958, 6131, 5842, 5421, 5918, 6265, 5851, 5949]))\n",
            "(array([0, 1, 2, 3, 4, 5, 6, 7, 8, 9], dtype=uint8), array([ 980, 1135, 1032, 1010,  982,  892,  958, 1028,  974, 1009]))\n"
          ],
          "name": "stdout"
        }
      ]
    },
    {
      "cell_type": "code",
      "metadata": {
        "id": "izOfY3Zx44gI"
      },
      "source": [
        " x_train= x_train/255\n",
        " x_test = x_test/255"
      ],
      "execution_count": null,
      "outputs": []
    },
    {
      "cell_type": "code",
      "metadata": {
        "colab": {
          "base_uri": "https://localhost:8080/"
        },
        "id": "7VJPel6o5PCC",
        "outputId": "ef4287c1-2295-4285-9d31-ec6db36214c0"
      },
      "source": [
        "print(x_train.max())\n",
        "print(x_train.min())"
      ],
      "execution_count": null,
      "outputs": [
        {
          "output_type": "stream",
          "text": [
            "1.0\n",
            "0.0\n"
          ],
          "name": "stdout"
        }
      ]
    },
    {
      "cell_type": "code",
      "metadata": {
        "id": "059UvsKX5VSF"
      },
      "source": [
        "from keras.layers import Dense\n",
        "from keras.layers import Flatten\n",
        "model = keras.Sequential()\n",
        "model.add(Flatten(input_shape=(28,28))) \n",
        "model.add(Dense(392,activation='relu'))\n",
        "model.add(Dense(10,activation='softmax'))"
      ],
      "execution_count": null,
      "outputs": []
    },
    {
      "cell_type": "code",
      "metadata": {
        "id": "yz_zHMLM5rRd"
      },
      "source": [
        "model.compile(optimizer='adam', loss ='sparse_categorical_crossentropy',metrics=['accuracy'])"
      ],
      "execution_count": null,
      "outputs": []
    },
    {
      "cell_type": "code",
      "metadata": {
        "colab": {
          "base_uri": "https://localhost:8080/"
        },
        "id": "_HbLx08s5xTM",
        "outputId": "0c79d2d3-34d6-48c3-f610-0f471f9c4578"
      },
      "source": [
        "history= model.fit(x_train,y_train,epochs=13,validation_data=(x_test,y_test))"
      ],
      "execution_count": null,
      "outputs": [
        {
          "output_type": "stream",
          "text": [
            "Epoch 1/13\n",
            "1875/1875 [==============================] - 6s 3ms/step - loss: 0.3511 - accuracy: 0.8963 - val_loss: 0.1005 - val_accuracy: 0.9700\n",
            "Epoch 2/13\n",
            "1875/1875 [==============================] - 5s 3ms/step - loss: 0.0840 - accuracy: 0.9748 - val_loss: 0.0809 - val_accuracy: 0.9740\n",
            "Epoch 3/13\n",
            "1875/1875 [==============================] - 5s 3ms/step - loss: 0.0518 - accuracy: 0.9840 - val_loss: 0.0665 - val_accuracy: 0.9787\n",
            "Epoch 4/13\n",
            "1875/1875 [==============================] - 5s 3ms/step - loss: 0.0366 - accuracy: 0.9890 - val_loss: 0.0738 - val_accuracy: 0.9770\n",
            "Epoch 5/13\n",
            "1875/1875 [==============================] - 5s 3ms/step - loss: 0.0251 - accuracy: 0.9921 - val_loss: 0.0659 - val_accuracy: 0.9800\n",
            "Epoch 6/13\n",
            "1875/1875 [==============================] - 5s 3ms/step - loss: 0.0216 - accuracy: 0.9932 - val_loss: 0.0715 - val_accuracy: 0.9795\n",
            "Epoch 7/13\n",
            "1875/1875 [==============================] - 5s 3ms/step - loss: 0.0148 - accuracy: 0.9949 - val_loss: 0.0716 - val_accuracy: 0.9819\n",
            "Epoch 8/13\n",
            "1875/1875 [==============================] - 5s 3ms/step - loss: 0.0119 - accuracy: 0.9963 - val_loss: 0.0795 - val_accuracy: 0.9799\n",
            "Epoch 9/13\n",
            "1875/1875 [==============================] - 5s 3ms/step - loss: 0.0109 - accuracy: 0.9963 - val_loss: 0.0875 - val_accuracy: 0.9789\n",
            "Epoch 10/13\n",
            "1875/1875 [==============================] - 5s 3ms/step - loss: 0.0101 - accuracy: 0.9961 - val_loss: 0.0980 - val_accuracy: 0.9773\n",
            "Epoch 11/13\n",
            "1875/1875 [==============================] - 5s 3ms/step - loss: 0.0095 - accuracy: 0.9970 - val_loss: 0.0863 - val_accuracy: 0.9804\n",
            "Epoch 12/13\n",
            "1875/1875 [==============================] - 6s 3ms/step - loss: 0.0060 - accuracy: 0.9981 - val_loss: 0.0852 - val_accuracy: 0.9816\n",
            "Epoch 13/13\n",
            "1875/1875 [==============================] - 6s 3ms/step - loss: 0.0054 - accuracy: 0.9983 - val_loss: 0.0944 - val_accuracy: 0.9815\n"
          ],
          "name": "stdout"
        }
      ]
    },
    {
      "cell_type": "code",
      "metadata": {
        "colab": {
          "base_uri": "https://localhost:8080/",
          "height": 282
        },
        "id": "dPGQMVDo6DJH",
        "outputId": "417abcd5-5e57-4b66-e097-c235e6c9b753"
      },
      "source": [
        "import matplotlib.pyplot as plt\n",
        "plt.plot(history.history['val_loss'])\n",
        "plt.plot(history.history['loss'])"
      ],
      "execution_count": null,
      "outputs": [
        {
          "output_type": "execute_result",
          "data": {
            "text/plain": [
              "[<matplotlib.lines.Line2D at 0x7fd16de16650>]"
            ]
          },
          "metadata": {
            "tags": []
          },
          "execution_count": 11
        },
        {
          "output_type": "display_data",
          "data": {
            "image/png": "[encoded data removed]",
            "text/plain": [
              "<Figure size 432x288 with 1 Axes>"
            ]
          },
          "metadata": {
            "tags": [],
            "needs_background": "light"
          }
        }
      ]
    },
    {
      "cell_type": "code",
      "metadata": {
        "colab": {
          "base_uri": "https://localhost:8080/",
          "height": 283
        },
        "id": "pavmltbA6vlS",
        "outputId": "c7f84103-00bb-4917-ebf3-9a5c99a05494"
      },
      "source": [
        "import matplotlib.pyplot as plt\n",
        "plt.plot(history.history['val_accuracy'])\n",
        "plt.plot(history.history['accuracy'])"
      ],
      "execution_count": null,
      "outputs": [
        {
          "output_type": "execute_result",
          "data": {
            "text/plain": [
              "[<matplotlib.lines.Line2D at 0x7fd16ddf8910>]"
            ]
          },
          "metadata": {
            "tags": []
          },
          "execution_count": 12
        },
        {
          "output_type": "display_data",
          "data": {
            "image/png": "[encoded data removed]",
            "text/plain": [
              "<Figure size 432x288 with 1 Axes>"
            ]
          },
          "metadata": {
            "tags": [],
            "needs_background": "light"
          }
        }
      ]
    },
    {
      "cell_type": "code",
      "metadata": {
        "colab": {
          "base_uri": "https://localhost:8080/"
        },
        "id": "GXqfcVNo8rny",
        "outputId": "f3d892a7-0ed4-46a3-c62c-f8f9feb1900a"
      },
      "source": [
        "import numpy as np\n",
        "y_pred= model.predict(x_test)\n",
        "y_pred=np.argmax(y_pred,axis=1)\n",
        "y_pred"
      ],
      "execution_count": null,
      "outputs": [
        {
          "output_type": "execute_result",
          "data": {
            "text/plain": [
              "array([7, 2, 1, ..., 4, 5, 6])"
            ]
          },
          "metadata": {
            "tags": []
          },
          "execution_count": 13
        }
      ]
    },
    {
      "cell_type": "code",
      "metadata": {
        "id": "8k6QmJ_U7wuE"
      },
      "source": [
        "from sklearn.metrics import accuracy_score,confusion_matrix,classification_report"
      ],
      "execution_count": null,
      "outputs": []
    },
    {
      "cell_type": "code",
      "metadata": {
        "colab": {
          "base_uri": "https://localhost:8080/"
        },
        "id": "9Mi8pJ3R8lEH",
        "outputId": "dfc51863-077f-4f51-c180-245344822341"
      },
      "source": [
        " print(confusion_matrix(y_pred,y_test))"
      ],
      "execution_count": null,
      "outputs": [
        {
          "output_type": "stream",
          "text": [
            "[[ 970    0    1    0    1    2    3    2    1    2]\n",
            " [   1 1127    0    0    0    0    2    0    0    2]\n",
            " [   1    1 1018    1    2    0    1    5    2    0]\n",
            " [   0    2    2  991    0    7    0    0    4    3]\n",
            " [   1    1    2    0  965    2    4    0    4   10]\n",
            " [   0    1    0    8    0  874    6    0    4    1]\n",
            " [   4    2    2    0    4    4  942    0    0    1]\n",
            " [   1    1    4    2    5    0    0 1016    4    8]\n",
            " [   2    0    3    3    1    2    0    3  952    4]\n",
            " [   0    0    0    5    4    1    0    2    3  978]]\n"
          ],
          "name": "stdout"
        }
      ]
    },
    {
      "cell_type": "code",
      "metadata": {
        "colab": {
          "base_uri": "https://localhost:8080/"
        },
        "id": "hrKYDZSt8nTt",
        "outputId": "2f259ad1-c640-4b17-8af3-c8aff13a64eb"
      },
      "source": [
        "accuracy_score(y_pred,y_test)"
      ],
      "execution_count": null,
      "outputs": [
        {
          "output_type": "execute_result",
          "data": {
            "text/plain": [
              "0.9815"
            ]
          },
          "metadata": {
            "tags": []
          },
          "execution_count": 16
        }
      ]
    },
    {
      "cell_type": "code",
      "metadata": {
        "colab": {
          "base_uri": "https://localhost:8080/"
        },
        "id": "aA97J1wf9K7r",
        "outputId": "0dff0881-12a4-495b-c276-cf872b7e476c"
      },
      "source": [
        "print(classification_report(y_pred,y_test))"
      ],
      "execution_count": null,
      "outputs": [
        {
          "output_type": "stream",
          "text": [
            "              precision    recall  f1-score   support\n",
            "\n",
            "           0       0.99      0.99      0.99       983\n",
            "           1       0.99      0.99      0.99      1138\n",
            "           2       0.99      0.97      0.98      1050\n",
            "           3       0.98      0.98      0.98      1008\n",
            "           4       0.96      0.99      0.98       953\n",
            "           5       0.98      0.99      0.99       890\n",
            "           6       0.99      0.99      0.99       960\n",
            "           7       0.97      0.99      0.98      1007\n",
            "           8       0.98      0.98      0.98       979\n",
            "           9       0.98      0.96      0.97      1032\n",
            "\n",
            "    accuracy                           0.98     10000\n",
            "   macro avg       0.98      0.98      0.98     10000\n",
            "weighted avg       0.98      0.98      0.98     10000\n",
            "\n"
          ],
          "name": "stdout"
        }
      ]
    },
    {
      "cell_type": "code",
      "metadata": {
        "id": "X40jKwPW9Qy3"
      },
      "source": [
        "model.save('mnist.hdf5')"
      ],
      "execution_count": null,
      "outputs": []
    },
    {
      "cell_type": "code",
      "metadata": {
        "id": "uqbTirgI9qjp",
        "colab": {
          "base_uri": "https://localhost:8080/"
        },
        "outputId": "0cd67846-1ebd-4c06-bea8-2d0b895daab9"
      },
      "source": [
        "from keras.callbacks import EarlyStopping\n",
        "\n",
        "early_stop = EarlyStopping(mode='min',verbose=1,patience=5)\n",
        "model.fit(x_train,y_train,epochs = 30,validation_data=(x_test,y_test),\n",
        "          callbacks=[early_stop])"
      ],
      "execution_count": null,
      "outputs": [
        {
          "output_type": "stream",
          "text": [
            "Epoch 1/30\n",
            "1875/1875 [==============================] - 6s 3ms/step - loss: 0.0070 - accuracy: 0.9977 - val_loss: 0.1185 - val_accuracy: 0.9782\n",
            "Epoch 2/30\n",
            "1875/1875 [==============================] - 5s 3ms/step - loss: 0.0073 - accuracy: 0.9974 - val_loss: 0.1300 - val_accuracy: 0.9754\n",
            "Epoch 3/30\n",
            "1875/1875 [==============================] - 5s 3ms/step - loss: 0.0061 - accuracy: 0.9979 - val_loss: 0.1077 - val_accuracy: 0.9792\n",
            "Epoch 4/30\n",
            "1875/1875 [==============================] - 5s 3ms/step - loss: 0.0045 - accuracy: 0.9984 - val_loss: 0.1139 - val_accuracy: 0.9801\n",
            "Epoch 5/30\n",
            "1875/1875 [==============================] - 5s 3ms/step - loss: 0.0068 - accuracy: 0.9976 - val_loss: 0.1203 - val_accuracy: 0.9804\n",
            "Epoch 6/30\n",
            "1875/1875 [==============================] - 6s 3ms/step - loss: 0.0055 - accuracy: 0.9980 - val_loss: 0.1179 - val_accuracy: 0.9820\n",
            "Epoch 7/30\n",
            "1875/1875 [==============================] - 6s 3ms/step - loss: 0.0070 - accuracy: 0.9978 - val_loss: 0.1026 - val_accuracy: 0.9830\n",
            "Epoch 8/30\n",
            "1875/1875 [==============================] - 6s 3ms/step - loss: 0.0048 - accuracy: 0.9984 - val_loss: 0.1086 - val_accuracy: 0.9819\n",
            "Epoch 9/30\n",
            "1875/1875 [==============================] - 6s 3ms/step - loss: 0.0042 - accuracy: 0.9985 - val_loss: 0.0926 - val_accuracy: 0.9835\n",
            "Epoch 10/30\n",
            "1875/1875 [==============================] - 6s 3ms/step - loss: 0.0044 - accuracy: 0.9986 - val_loss: 0.1374 - val_accuracy: 0.9768\n",
            "Epoch 11/30\n",
            "1875/1875 [==============================] - 6s 3ms/step - loss: 0.0063 - accuracy: 0.9981 - val_loss: 0.1317 - val_accuracy: 0.9812\n",
            "Epoch 12/30\n",
            "1875/1875 [==============================] - 5s 3ms/step - loss: 0.0056 - accuracy: 0.9984 - val_loss: 0.1176 - val_accuracy: 0.9824\n",
            "Epoch 13/30\n",
            "1875/1875 [==============================] - 6s 3ms/step - loss: 0.0049 - accuracy: 0.9988 - val_loss: 0.1176 - val_accuracy: 0.9827\n",
            "Epoch 14/30\n",
            "1875/1875 [==============================] - 5s 3ms/step - loss: 0.0056 - accuracy: 0.9982 - val_loss: 0.1182 - val_accuracy: 0.9833\n",
            "Epoch 00014: early stopping\n"
          ],
          "name": "stdout"
        },
        {
          "output_type": "execute_result",
          "data": {
            "text/plain": [
              "<tensorflow.python.keras.callbacks.History at 0x7fd165aebd10>"
            ]
          },
          "metadata": {
            "tags": []
          },
          "execution_count": 21
        }
      ]
    },
    {
      "cell_type": "code",
      "metadata": {
        "id": "uf2n8gU7Rcpz",
        "colab": {
          "base_uri": "https://localhost:8080/",
          "height": 282
        },
        "outputId": "a4cb85c7-7d47-437d-8fee-69797f5223da"
      },
      "source": [
        "import matplotlib.pyplot as plt\n",
        "plt.plot(history.history['val_loss'])\n",
        "plt.plot(history.history['loss'])"
      ],
      "execution_count": null,
      "outputs": [
        {
          "output_type": "execute_result",
          "data": {
            "text/plain": [
              "[<matplotlib.lines.Line2D at 0x7fd165afb190>]"
            ]
          },
          "metadata": {
            "tags": []
          },
          "execution_count": 22
        },
        {
          "output_type": "display_data",
          "data": {
            "image/png": "[encoded data removed]",
            "text/plain": [
              "<Figure size 432x288 with 1 Axes>"
            ]
          },
          "metadata": {
            "tags": [],
            "needs_background": "light"
          }
        }
      ]
    },
    {
      "cell_type": "code",
      "metadata": {
        "colab": {
          "base_uri": "https://localhost:8080/",
          "height": 283
        },
        "id": "fqC5CeEYf3yl",
        "outputId": "83c5c522-0eb4-4a33-aa30-20f98799496a"
      },
      "source": [
        "import matplotlib.pyplot as plt\n",
        "plt.plot(history.history['val_accuracy'])\n",
        "plt.plot(history.history['accuracy'])\n"
      ],
      "execution_count": null,
      "outputs": [
        {
          "output_type": "execute_result",
          "data": {
            "text/plain": [
              "[<matplotlib.lines.Line2D at 0x7fd1639e12d0>]"
            ]
          },
          "metadata": {
            "tags": []
          },
          "execution_count": 23
        },
        {
          "output_type": "display_data",
          "data": {
            "image/png": "[encoded data removed]",
            "text/plain": [
              "<Figure size 432x288 with 1 Axes>"
            ]
          },
          "metadata": {
            "tags": [],
            "needs_background": "light"
          }
        }
      ]
    },
    {
      "cell_type": "code",
      "metadata": {
        "colab": {
          "base_uri": "https://localhost:8080/"
        },
        "id": "n1me0_bigEYJ",
        "outputId": "7d585667-cec9-4370-8bb6-fe9394f079a8"
      },
      "source": [
        "import numpy as np\n",
        "y_pred= model.predict(x_test)\n",
        "y_pred=np.argmax(y_pred,axis=1)\n",
        "y_pred"
      ],
      "execution_count": null,
      "outputs": [
        {
          "output_type": "execute_result",
          "data": {
            "text/plain": [
              "array([7, 2, 1, ..., 4, 5, 6])"
            ]
          },
          "metadata": {
            "tags": []
          },
          "execution_count": 24
        }
      ]
    },
    {
      "cell_type": "code",
      "metadata": {
        "id": "ih53P78sgIg2"
      },
      "source": [
        "from sklearn.metrics import accuracy_score,confusion_matrix,classification_report"
      ],
      "execution_count": null,
      "outputs": []
    },
    {
      "cell_type": "code",
      "metadata": {
        "colab": {
          "base_uri": "https://localhost:8080/"
        },
        "id": "Gp52IqQygOKt",
        "outputId": "3a67b682-fcaa-4dfa-da66-7519b5bf49b2"
      },
      "source": [
        "accuracy_score(y_pred,y_test)"
      ],
      "execution_count": null,
      "outputs": [
        {
          "output_type": "execute_result",
          "data": {
            "text/plain": [
              "0.9833"
            ]
          },
          "metadata": {
            "tags": []
          },
          "execution_count": 27
        }
      ]
    },
    {
      "cell_type": "code",
      "metadata": {
        "colab": {
          "base_uri": "https://localhost:8080/"
        },
        "id": "JeOvdbPhiYVO",
        "outputId": "3bfdd0ea-8839-4b65-fb83-820fdbcf77dd"
      },
      "source": [
        "print(classification_report(y_pred,y_test))"
      ],
      "execution_count": null,
      "outputs": [
        {
          "output_type": "stream",
          "text": [
            "              precision    recall  f1-score   support\n",
            "\n",
            "           0       0.99      0.99      0.99       982\n",
            "           1       0.99      1.00      0.99      1132\n",
            "           2       0.99      0.99      0.99      1031\n",
            "           3       0.98      0.98      0.98      1009\n",
            "           4       0.98      0.98      0.98       989\n",
            "           5       0.98      0.98      0.98       894\n",
            "           6       0.98      0.98      0.98       959\n",
            "           7       0.99      0.98      0.98      1041\n",
            "           8       0.98      0.98      0.98       970\n",
            "           9       0.97      0.98      0.98       993\n",
            "\n",
            "    accuracy                           0.98     10000\n",
            "   macro avg       0.98      0.98      0.98     10000\n",
            "weighted avg       0.98      0.98      0.98     10000\n",
            "\n"
          ],
          "name": "stdout"
        }
      ]
    },
    {
      "cell_type": "code",
      "metadata": {
        "colab": {
          "base_uri": "https://localhost:8080/"
        },
        "id": "pJLfiyOZiegS",
        "outputId": "901f5a46-8813-4253-cc95-c141ece30537"
      },
      "source": [
        "print(confusion_matrix(y_pred,y_test))"
      ],
      "execution_count": null,
      "outputs": [
        {
          "output_type": "stream",
          "text": [
            "[[ 970    0    1    0    1    2    3    2    1    2]\n",
            " [   1 1127    0    0    0    0    2    0    0    2]\n",
            " [   1    1 1018    1    2    0    1    5    2    0]\n",
            " [   0    2    2  991    0    7    0    0    4    3]\n",
            " [   1    1    2    0  965    2    4    0    4   10]\n",
            " [   0    1    0    8    0  874    6    0    4    1]\n",
            " [   4    2    2    0    4    4  942    0    0    1]\n",
            " [   1    1    4    2    5    0    0 1016    4    8]\n",
            " [   2    0    3    3    1    2    0    3  952    4]\n",
            " [   0    0    0    5    4    1    0    2    3  978]]\n"
          ],
          "name": "stdout"
        }
      ]
    },
    {
      "cell_type": "code",
      "metadata": {
        "id": "GuVI7_eCiz2O"
      },
      "source": [
        "model.save(\"mnist1.hdf5\")"
      ],
      "execution_count": null,
      "outputs": []
    },
    {
      "cell_type": "code",
      "metadata": {
        "id": "mE55ucgQi8zM"
      },
      "source": [
        ""
      ],
      "execution_count": null,
      "outputs": []
    }
  ]
}